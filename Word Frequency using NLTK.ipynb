{
 "cells": [
  {
   "cell_type": "code",
   "execution_count": 19,
   "metadata": {
    "collapsed": true
   },
   "outputs": [],
   "source": [
    "import urllib2"
   ]
  },
  {
   "cell_type": "code",
   "execution_count": 20,
   "metadata": {
    "collapsed": true
   },
   "outputs": [],
   "source": [
    "from bs4 import BeautifulSoup"
   ]
  },
  {
   "cell_type": "code",
   "execution_count": 21,
   "metadata": {
    "collapsed": true
   },
   "outputs": [],
   "source": [
    "phpurl = \"http://php.net/\""
   ]
  },
  {
   "cell_type": "code",
   "execution_count": 46,
   "metadata": {},
   "outputs": [],
   "source": [
    "page = urllib2.urlopen(phpurl).read().decode('utf8','ignore')\n",
    "soup = BeautifulSoup(page,'lxml')\n",
    "soup;"
   ]
  },
  {
   "cell_type": "code",
   "execution_count": 47,
   "metadata": {},
   "outputs": [],
   "source": [
    "text = ' '.join(map(lambda p:p.text,soup.find_all('div')))\n",
    "text;"
   ]
  },
  {
   "cell_type": "code",
   "execution_count": 48,
   "metadata": {},
   "outputs": [],
   "source": [
    "text.encode('ascii',errors='replace').replace(\"?\",\" \");"
   ]
  },
  {
   "cell_type": "code",
   "execution_count": 25,
   "metadata": {
    "collapsed": true
   },
   "outputs": [],
   "source": [
    "from nltk.tokenize import sent_tokenize , word_tokenize"
   ]
  },
  {
   "cell_type": "code",
   "execution_count": 26,
   "metadata": {
    "collapsed": true
   },
   "outputs": [],
   "source": [
    "from nltk.corpus import stopwords"
   ]
  },
  {
   "cell_type": "code",
   "execution_count": 27,
   "metadata": {
    "collapsed": true
   },
   "outputs": [],
   "source": [
    "from string import punctuation"
   ]
  },
  {
   "cell_type": "code",
   "execution_count": 34,
   "metadata": {
    "collapsed": true
   },
   "outputs": [],
   "source": [
    "words_target = word_tokenize(text)"
   ]
  },
  {
   "cell_type": "code",
   "execution_count": 49,
   "metadata": {},
   "outputs": [],
   "source": [
    "words_target;"
   ]
  },
  {
   "cell_type": "code",
   "execution_count": 36,
   "metadata": {
    "collapsed": true
   },
   "outputs": [],
   "source": [
    "_stopWords = set(stopwords.words(\"english\")+list(punctuation))"
   ]
  },
  {
   "cell_type": "code",
   "execution_count": 50,
   "metadata": {},
   "outputs": [],
   "source": [
    "_stopWords;"
   ]
  },
  {
   "cell_type": "code",
   "execution_count": 38,
   "metadata": {
    "collapsed": true
   },
   "outputs": [],
   "source": [
    "actual_words = [word for word in words_target if word not in _stopWords]"
   ]
  },
  {
   "cell_type": "code",
   "execution_count": 51,
   "metadata": {},
   "outputs": [],
   "source": [
    "actual_words;"
   ]
  },
  {
   "cell_type": "code",
   "execution_count": 40,
   "metadata": {
    "collapsed": true
   },
   "outputs": [],
   "source": [
    "from nltk.probability import FreqDist"
   ]
  },
  {
   "cell_type": "code",
   "execution_count": 43,
   "metadata": {},
   "outputs": [],
   "source": [
    "freq = FreqDist(actual_words)"
   ]
  },
  {
   "cell_type": "code",
   "execution_count": 52,
   "metadata": {},
   "outputs": [
    {
     "data": {
      "text/plain": [
       "FreqDist({u\"'s\": 1,\n",
       "          u'01': 10,\n",
       "          u'02': 2,\n",
       "          u'04': 2,\n",
       "          u'06': 2,\n",
       "          u'1': 10,\n",
       "          u'12': 2,\n",
       "          u'12th': 4,\n",
       "          u'14th': 4,\n",
       "          u'17': 2,\n",
       "          u'2': 4,\n",
       "          u'2001-2018': 2,\n",
       "          u'2017': 10,\n",
       "          u'2018': 18,\n",
       "          u'2018Dutch': 4,\n",
       "          u'2018PHP': 4,\n",
       "          u'20th': 4,\n",
       "          u'26th': 4,\n",
       "          u'28': 2,\n",
       "          u'3': 26,\n",
       "          u'31': 2,\n",
       "          u'31th': 4,\n",
       "          u'4': 6,\n",
       "          u'5.6': 8,\n",
       "          u'5.6.33': 10,\n",
       "          u'5.6.34': 10,\n",
       "          u'5.6.34\\xb7Release': 4,\n",
       "          u'7.0': 4,\n",
       "          u'7.0.28': 10,\n",
       "          u'7.0.28\\xb7Release': 4,\n",
       "          u'7.1': 8,\n",
       "          u'7.1.14': 10,\n",
       "          u'7.1.15': 10,\n",
       "          u'7.1.15\\xb7Release': 4,\n",
       "          u'7.2': 8,\n",
       "          u'7.2.0': 66,\n",
       "          u'7.2.2': 10,\n",
       "          u'7.2.3': 10,\n",
       "          u'7.2.3\\xb7Release': 4,\n",
       "          u'A': 21,\n",
       "          u'Affecting': 1,\n",
       "          u'All': 48,\n",
       "          u'Alpha': 14,\n",
       "          u'Apache': 1,\n",
       "          u'Archive': 1,\n",
       "          u'Audio': 1,\n",
       "          u'Aug': 4,\n",
       "          u'August': 4,\n",
       "          u'Authentication': 1,\n",
       "          u'Basic': 2,\n",
       "          u'Behaviour': 1,\n",
       "          u'Beta': 10,\n",
       "          u'CGI': 1,\n",
       "          u'Candidate': 50,\n",
       "          u'Card': 1,\n",
       "          u'ChangeLog': 28,\n",
       "          u'Character': 1,\n",
       "          u'Classes': 2,\n",
       "          u'Collection': 1,\n",
       "          u'Command': 2,\n",
       "          u'Compression': 1,\n",
       "          u'ConFoo': 1,\n",
       "          u'Conference': 8,\n",
       "          u'Conferences': 3,\n",
       "          u'Connection': 1,\n",
       "          u'Connections': 1,\n",
       "          u'Constants': 1,\n",
       "          u'Contact': 2,\n",
       "          u'Context': 1,\n",
       "          u'Control': 2,\n",
       "          u'Cookies': 1,\n",
       "          u'Copyright': 2,\n",
       "          u'Credit': 1,\n",
       "          u'Cryptography': 1,\n",
       "          u'Current': 1,\n",
       "          u'DEVELOPMENT': 20,\n",
       "          u'DO': 20,\n",
       "          u'DTrace': 1,\n",
       "          u'Data': 1,\n",
       "          u'Database': 3,\n",
       "          u'Date': 1,\n",
       "          u'Dealing': 1,\n",
       "          u'Developer': 4,\n",
       "          u'Documentation': 1,\n",
       "          u'Download': 4,\n",
       "          u'Downloads': 1,\n",
       "          u'Dynamic': 1,\n",
       "          u'Encoding': 1,\n",
       "          u'Engine': 1,\n",
       "          u'Entries': 2,\n",
       "          u'Error': 1,\n",
       "          u'Errors': 1,\n",
       "          u'Events': 2,\n",
       "          u'Exceptions': 2,\n",
       "          u'Experience': 4,\n",
       "          u'Explained': 1,\n",
       "          u'Expressions': 1,\n",
       "          u'Extensions': 16,\n",
       "          u'Fast': 4,\n",
       "          u'Features': 1,\n",
       "          u'Feb': 4,\n",
       "          u'File': 1,\n",
       "          u'Filesystem': 1,\n",
       "          u'Focus': 1,\n",
       "          u'For': 68,\n",
       "          u'Formats': 1,\n",
       "          u'Function': 1,\n",
       "          u'Functions': 1,\n",
       "          u'G': 1,\n",
       "          u'GUI': 1,\n",
       "          u'Garbage': 1,\n",
       "          u'General': 1,\n",
       "          u'Generation': 1,\n",
       "          u'Generators': 1,\n",
       "          u'Get': 1,\n",
       "          u'Getting': 1,\n",
       "          u'Globals': 1,\n",
       "          u'Goto': 2,\n",
       "          u'Group': 4,\n",
       "          u'HTTP': 1,\n",
       "          u'Handling': 1,\n",
       "          u'Help': 1,\n",
       "          u'Hiding': 1,\n",
       "          u'Human': 1,\n",
       "          u'IN': 20,\n",
       "          u'IS': 20,\n",
       "          u'IT': 20,\n",
       "          u'Image': 1,\n",
       "          u'Installed': 2,\n",
       "          u'Interfaces': 1,\n",
       "          u'Introduction': 2,\n",
       "          u'Involved': 1,\n",
       "          u'Jan': 2,\n",
       "          u'Jul': 2,\n",
       "          u'July': 4,\n",
       "          u'Keeping': 1,\n",
       "          u'Keyboard': 1,\n",
       "          u'Language': 2,\n",
       "          u'Line': 1,\n",
       "          u'MIME': 1,\n",
       "          u'Magic': 1,\n",
       "          u'Mail': 1,\n",
       "          u'Manipulation': 2,\n",
       "          u'Mar': 8,\n",
       "          u'Mathematical': 1,\n",
       "          u'Mid-Atlantic': 1,\n",
       "          u'Mirror': 2,\n",
       "          u'Mode': 1,\n",
       "          u'My': 2,\n",
       "          u'NEWS': 20,\n",
       "          u'NOT': 20,\n",
       "          u'Namespaces': 1,\n",
       "          u'News': 2,\n",
       "          u'Next': 2,\n",
       "          u'Non-Text': 1,\n",
       "          u'Notes\\xb7Upgrading': 16,\n",
       "          u'Objects': 1,\n",
       "          u'Oct': 2,\n",
       "          u'October': 8,\n",
       "          u'Older': 2,\n",
       "          u'One': 8,\n",
       "          u'Only': 1,\n",
       "          u'Operators': 1,\n",
       "          u'Other': 4,\n",
       "          u'Output': 1,\n",
       "          u'PHP': 253,\n",
       "          u'PHP.net': 4,\n",
       "          u'PREVIEW': 20,\n",
       "          u'PRODUCTION': 20,\n",
       "          u'Persistent': 1,\n",
       "          u'Predefined': 3,\n",
       "          u'Previous': 2,\n",
       "          u'Privacy': 2,\n",
       "          u'Process': 1,\n",
       "          u'Processing': 3,\n",
       "          u'Protocols': 1,\n",
       "          u'Quotes': 1,\n",
       "          u'RC3': 4,\n",
       "          u'RC4': 4,\n",
       "          u'Reference': 2,\n",
       "          u'References': 1,\n",
       "          u'Register': 1,\n",
       "          u'Related': 4,\n",
       "          u'Release': 50,\n",
       "          u'Released': 24,\n",
       "          u'Reporting': 1,\n",
       "          u'Safe': 1,\n",
       "          u'Scroll': 2,\n",
       "          u'Search': 1,\n",
       "          u'Security': 4,\n",
       "          u'Sep': 2,\n",
       "          u'September': 4,\n",
       "          u'Server': 1,\n",
       "          u'Services': 3,\n",
       "          u'Session': 2,\n",
       "          u'Sessions': 1,\n",
       "          u'Several': 8,\n",
       "          u'Shortcuts': 1,\n",
       "          u'Social': 2,\n",
       "          u'Special': 2,\n",
       "          u'Specific': 2,\n",
       "          u'Started': 1,\n",
       "          u'Structures': 1,\n",
       "          u'Submitted': 1,\n",
       "          u'Support': 1,\n",
       "          u'Supported': 1,\n",
       "          u'System': 1,\n",
       "          u'THE': 4,\n",
       "          u'THIS': 20,\n",
       "          u'Text': 1,\n",
       "          u'Thank': 20,\n",
       "          u'Thanks': 2,\n",
       "          u'The': 98,\n",
       "          u'These': 20,\n",
       "          u'This': 49,\n",
       "          u'Time': 1,\n",
       "          u'Tracing': 1,\n",
       "          u'Type': 1,\n",
       "          u'Types': 1,\n",
       "          u'UPGRADING': 20,\n",
       "          u'USE': 20,\n",
       "          u'Upcoming': 3,\n",
       "          u'User': 3,\n",
       "          u'Using': 2,\n",
       "          u'Variable': 1,\n",
       "          u'Variables': 2,\n",
       "          u'Web': 1,\n",
       "          u'Windows': 49,\n",
       "          u'Wrappers': 1,\n",
       "          u'XForms': 1,\n",
       "          u'XML': 1,\n",
       "          u'You': 20,\n",
       "          u'also': 44,\n",
       "          u'announced': 8,\n",
       "          u'announces': 48,\n",
       "          u'archive': 20,\n",
       "          u'authentication': 1,\n",
       "          u'availability': 48,\n",
       "          u'beta': 8,\n",
       "          u'better': 20,\n",
       "          u'binaries': 48,\n",
       "          u'binary': 1,\n",
       "          u'blog': 4,\n",
       "          u'bottom': 1,\n",
       "          u'box': 1,\n",
       "          u'bug': 40,\n",
       "          u'bugfix': 8,\n",
       "          u'bugs': 28,\n",
       "          u'calling': 3,\n",
       "          u'carefully': 20,\n",
       "          u'changes': 48,\n",
       "          u'complete': 20,\n",
       "          u'conference': 4,\n",
       "          u'conferencesConFoo': 3,\n",
       "          u'considerations': 1,\n",
       "          u'containing': 4,\n",
       "          u'contains': 8,\n",
       "          u'current': 1,\n",
       "          u'development': 56,\n",
       "          u'download': 20,\n",
       "          u'downloads': 76,\n",
       "          u'encouraged': 48,\n",
       "          u'especially': 4,\n",
       "          u'everything': 4,\n",
       "          u'features': 20,\n",
       "          u'file': 41,\n",
       "          u'files': 21,\n",
       "          u'final': 4,\n",
       "          u'first': 12,\n",
       "          u'fix': 8,\n",
       "          u'fixed': 16,\n",
       "          u'fixes': 16,\n",
       "          u'flexible': 4,\n",
       "          u'found': 68,\n",
       "          u'fourth': 4,\n",
       "          u'full': 20,\n",
       "          u'g': 6,\n",
       "          u'general-purpose': 4,\n",
       "          u'h': 1,\n",
       "          u'handling': 1,\n",
       "          u'help': 1,\n",
       "          u'helping': 20,\n",
       "          u'homepage': 1,\n",
       "          u'immediate': 48,\n",
       "          u'improvements': 4,\n",
       "          u'included': 4,\n",
       "          u'incompatibilities': 20,\n",
       "          u'information': 20,\n",
       "          u'item': 2,\n",
       "          u'j': 1,\n",
       "          u'k': 1,\n",
       "          u'language': 4,\n",
       "          u'line': 1,\n",
       "          u'list': 68,\n",
       "          u'make': 20,\n",
       "          u'man': 2,\n",
       "          u'many': 4,\n",
       "          u'media': 2,\n",
       "          u'menu': 2,\n",
       "          u'minor': 4,\n",
       "          u'miss': 4,\n",
       "          u'module': 1,\n",
       "          u'n': 1,\n",
       "          u'new': 20,\n",
       "          u'next': 8,\n",
       "          u'notes': 20,\n",
       "          u'official_php': 3,\n",
       "          u'one': 4,\n",
       "          u'options': 1,\n",
       "          u'p': 1,\n",
       "          u'page': 51,\n",
       "          u'papersMid-Atlantic': 3,\n",
       "          u'parameters': 1,\n",
       "          u'php': 4,\n",
       "          u'planned': 20,\n",
       "          u'please': 48,\n",
       "          u'policy': 2,\n",
       "          u'popular': 8,\n",
       "          u'powers': 4,\n",
       "          u'pragmatic': 4,\n",
       "          u'read': 40,\n",
       "          u'recorded': 28,\n",
       "          u'relative': 4,\n",
       "          u'release': 84,\n",
       "          u'released': 12,\n",
       "          u'releases': 20,\n",
       "          u'remote': 1,\n",
       "          u'report': 20,\n",
       "          u'scripting': 4,\n",
       "          u'search': 2,\n",
       "          u'second': 4,\n",
       "          u'security': 36,\n",
       "          u'several': 8,\n",
       "          u'simple': 1,\n",
       "          u'sites': 4,\n",
       "          u'source': 76,\n",
       "          u'sources': 20,\n",
       "          u'suited': 4,\n",
       "          u'syntax': 1,\n",
       "          u'system': 20,\n",
       "          u'team': 48,\n",
       "          u'tek': 4,\n",
       "          u'test': 20,\n",
       "          u'third': 8,\n",
       "          u'top': 1,\n",
       "          u'tracking': 20,\n",
       "          u'tutorial': 1,\n",
       "          u'upgrade': 28,\n",
       "          u'upgrading': 20,\n",
       "          u'uploads': 1,\n",
       "          u'us': 20,\n",
       "          u'usage': 1,\n",
       "          u'users': 48,\n",
       "          u'version': 48,\n",
       "          u'visit': 48,\n",
       "          u'want': 4,\n",
       "          u'web': 8,\n",
       "          u'websites': 4,\n",
       "          u'wiki': 20,\n",
       "          u'windows.php.net/download/': 28,\n",
       "          u'windows.php.net/qa/': 20,\n",
       "          u'world': 4,\n",
       "          u'\\xa9': 2,\n",
       "          u'\\u2019': 4})"
      ]
     },
     "execution_count": 52,
     "metadata": {},
     "output_type": "execute_result"
    }
   ],
   "source": [
    "freq"
   ]
  },
  {
   "cell_type": "code",
   "execution_count": 42,
   "metadata": {
    "collapsed": true
   },
   "outputs": [],
   "source": [
    "from heapq import nlargest"
   ]
  },
  {
   "cell_type": "markdown",
   "metadata": {},
   "source": [
    "# Top 10 words with highest frequency "
   ]
  },
  {
   "cell_type": "code",
   "execution_count": 45,
   "metadata": {},
   "outputs": [
    {
     "data": {
      "text/plain": [
       "[u'PHP',\n",
       " u'The',\n",
       " u'release',\n",
       " u'downloads',\n",
       " u'source',\n",
       " u'list',\n",
       " u'found',\n",
       " u'For',\n",
       " u'7.2.0',\n",
       " u'development']"
      ]
     },
     "execution_count": 45,
     "metadata": {},
     "output_type": "execute_result"
    }
   ],
   "source": [
    "nlargest(10,freq,key=freq.get)"
   ]
  },
  {
   "cell_type": "code",
   "execution_count": null,
   "metadata": {
    "collapsed": true
   },
   "outputs": [],
   "source": []
  }
 ],
 "metadata": {
  "kernelspec": {
   "display_name": "Python 2",
   "language": "python",
   "name": "python2"
  },
  "language_info": {
   "codemirror_mode": {
    "name": "ipython",
    "version": 2
   },
   "file_extension": ".py",
   "mimetype": "text/x-python",
   "name": "python",
   "nbconvert_exporter": "python",
   "pygments_lexer": "ipython2",
   "version": "2.7.14"
  }
 },
 "nbformat": 4,
 "nbformat_minor": 2
}
